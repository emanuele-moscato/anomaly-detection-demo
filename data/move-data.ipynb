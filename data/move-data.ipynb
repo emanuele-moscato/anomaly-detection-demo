{
 "cells": [
  {
   "cell_type": "markdown",
   "metadata": {},
   "source": [
    "# Moving data from Workspace to Datasets"
   ]
  },
  {
   "cell_type": "markdown",
   "metadata": {},
   "source": [
    "Import the SHerlockML filesystem library."
   ]
  },
  {
   "cell_type": "code",
   "execution_count": 1,
   "metadata": {},
   "outputs": [],
   "source": [
    "import sherlockml.filesystem as sfs"
   ]
  },
  {
   "cell_type": "markdown",
   "metadata": {},
   "source": [
    "Have a look at the content of the `input/` folder within Datasets."
   ]
  },
  {
   "cell_type": "code",
   "execution_count": 9,
   "metadata": {},
   "outputs": [
    {
     "data": {
      "text/plain": [
       "['/input/',\n",
       " '/input/3729-6852-0000.flac',\n",
       " '/input/3729-6852-0001.flac',\n",
       " '/input/3729-6852-0002.flac',\n",
       " '/input/3729-6852-0003.flac',\n",
       " '/input/3729-6852-0004.flac',\n",
       " '/input/3729-6852-0005.flac',\n",
       " '/input/3729-6852-0006.flac',\n",
       " '/input/3729-6852-0007.flac',\n",
       " '/input/3729-6852-0008.flac',\n",
       " '/input/3729-6852-0009.flac',\n",
       " '/input/german.adcg.tr',\n",
       " '/input/german.adcg.tr.label']"
      ]
     },
     "execution_count": 9,
     "metadata": {},
     "output_type": "execute_result"
    }
   ],
   "source": [
    "sfs.ls('input/')"
   ]
  },
  {
   "cell_type": "markdown",
   "metadata": {},
   "source": [
    "List the files in the Workspace that we want to move to Datasets."
   ]
  },
  {
   "cell_type": "code",
   "execution_count": 7,
   "metadata": {},
   "outputs": [],
   "source": [
    "files_list = [\n",
    "    './german.adcg.tr',\n",
    "    './german.adcg.tr.label'\n",
    "]"
   ]
  },
  {
   "cell_type": "markdown",
   "metadata": {},
   "source": [
    "Move the files using the `sherlockml.filesystem.put()` method."
   ]
  },
  {
   "cell_type": "code",
   "execution_count": 8,
   "metadata": {},
   "outputs": [],
   "source": [
    "for filename in files_list:\n",
    "    sfs.put(filename, '/input/'+filename)"
   ]
  }
 ],
 "metadata": {
  "kernelspec": {
   "display_name": "Python [conda env:Python3]",
   "language": "python",
   "name": "conda-env-Python3-py"
  },
  "language_info": {
   "codemirror_mode": {
    "name": "ipython",
    "version": 3
   },
   "file_extension": ".py",
   "mimetype": "text/x-python",
   "name": "python",
   "nbconvert_exporter": "python",
   "pygments_lexer": "ipython3",
   "version": "3.6.4"
  }
 },
 "nbformat": 4,
 "nbformat_minor": 2
}
